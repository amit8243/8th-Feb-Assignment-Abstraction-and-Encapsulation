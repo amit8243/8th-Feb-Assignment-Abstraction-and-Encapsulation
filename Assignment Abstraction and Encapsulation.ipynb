{
 "cells": [
  {
   "cell_type": "code",
   "execution_count": null,
   "id": "30069580-74f7-4b3a-9b00-46e8fafbc8c5",
   "metadata": {},
   "outputs": [],
   "source": [
    "#Abstraction and Encapsulation\n",
    "\n",
    "\"\"\"Q1. What is Abstraction in OOps? Explain with an example.\"\"\"\n",
    "\n",
    "Ans: Abstraction is a process of hiding the implementation details from the user, only the functionality will be provided to the user. \n",
    "In object-oriented programming languages like Python, abstraction is achieved using Classes and Objects.\n",
    "\n",
    "For example, consider a car. The user does not need to know how the car works, \n",
    "only the functionality of the car is important. The user needs to know how to start the car, \n",
    "how to accelerate, how to brake, etc. All these functionalities are provided by the car class. \n",
    "The implementation details of how these functionalities are achieved is hidden from the user.\n",
    "\n",
    "\"\"\"Q2. Differentiate between Abstraction and Encapsulation. Explain with an example.\"\"\"\"\n",
    "\n",
    "Ans: Abstraction: Abstraction is the process of hiding the implementation details from the user. \n",
    "It helps to reduce complexity and also improves the readability of the program. In Python, \n",
    "abstraction is achieved by using abstract classes and interfaces. An example of abstraction is a car. \n",
    "The user does not need to know how the car works, but only needs to know how to use it.\n",
    "\n",
    "Encapsulation: Encapsulation is the process of binding the data and the functions that operate on the \n",
    "data together. It helps to protect the data from outside interference and misuse. In Python, \n",
    "encapsulation is achieved by using classes. An example of encapsulation is a capsule which contains medicine. \n",
    "The user does not need to know the ingredients of the medicine, but only needs to know how to take it.\n",
    "\n",
    "\"\"\"Q3. What is abc module in python? Why is it used?\"\"\"\n",
    "\n",
    "Ans: The ABC (Abstract Base Classes) module in Python is a set of abstract base classes that provide a \n",
    "way to create interfaces and enforce contracts for subclasses. It is used to define abstract base \n",
    "classes that can be used to test whether a class provides a particular interface or has a particular \n",
    "property. This helps to ensure that all subclasses of an abstract base class adhere to a certain set \n",
    "of rules and provide a consistent interface. \n",
    "\n",
    "The ABC module is also used to create abstract base classes that can be used as mixins, which are \n",
    "classes that provide a set of methods and properties that can be inherited by other classes. \n",
    "This allows developers to easily add functionality to existing classes without having to rewrite code.\n",
    "\n",
    "\"\"\"Q4. How can we achieve data abstraction?\"\"\"\n",
    "\n",
    "Ans: Data abstraction can be achieved by using abstract data types (ADTs). ADTs are used to define the \n",
    "logical properties of a data type, such as its structure and behavior, without specifying how it is \n",
    "implemented. This allows for the implementation of the data type to be changed without affecting any \n",
    "code that uses it. Additionally, data abstraction can be achieved by using encapsulation, which is the \n",
    "process of hiding the implementation details of a class from the outside world. This allows for the \n",
    "data to be accessed and manipulated without having to know how it is stored or how it works internally.\n",
    "\n",
    "\"\"\"Q5. Can we create an instance of an abstract class? Explain your answer.\"\"\"\n",
    "Ans: No, we cannot create an instance of an abstract class. An abstract class is a class that contains \n",
    "one or more abstract methods, which are methods that do not have any implementation. Abstract classes \n",
    "cannot be instantiated, meaning they cannot be used to create objects.\n"
   ]
  }
 ],
 "metadata": {
  "kernelspec": {
   "display_name": "Python 3 (ipykernel)",
   "language": "python",
   "name": "python3"
  },
  "language_info": {
   "codemirror_mode": {
    "name": "ipython",
    "version": 3
   },
   "file_extension": ".py",
   "mimetype": "text/x-python",
   "name": "python",
   "nbconvert_exporter": "python",
   "pygments_lexer": "ipython3",
   "version": "3.10.8"
  }
 },
 "nbformat": 4,
 "nbformat_minor": 5
}
